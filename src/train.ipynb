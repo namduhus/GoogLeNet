{
 "cells": [
  {
   "cell_type": "code",
   "execution_count": 13,
   "metadata": {},
   "outputs": [],
   "source": [
    "import os\n",
    "import sys\n",
    "sys.path.append(os.path.abspath(\"src\"))\n"
   ]
  },
  {
   "cell_type": "code",
   "execution_count": 14,
   "metadata": {},
   "outputs": [],
   "source": [
    "import torch\n",
    "import torch.nn as nn\n",
    "import torch.optim as optim\n",
    "from torch.utils.data import DataLoader\n",
    "from torchvision import datasets, transforms\n",
    "from models.module.Inception import Inception\n",
    "from models.GoogLeNet import GoogLeNet  # GoogLeNet 모델 불러오기\n",
    "\n"
   ]
  },
  {
   "cell_type": "code",
   "execution_count": 21,
   "metadata": {},
   "outputs": [
    {
     "name": "stdout",
     "output_type": "stream",
     "text": [
      "cuda\n"
     ]
    }
   ],
   "source": [
    "# CUDA 설정\n",
    "\n",
    "device = torch.device(\"cuda\" if torch.cuda.is_available() else \"cpu\")\n",
    "num_epochs = 20\n",
    "batch_size = 128\n",
    "learning_rate = 0.001\n",
    "num_classes = 10\n",
    "print(device)"
   ]
  },
  {
   "cell_type": "code",
   "execution_count": 16,
   "metadata": {},
   "outputs": [
    {
     "name": "stdout",
     "output_type": "stream",
     "text": [
      "Files already downloaded and verified\n"
     ]
    }
   ],
   "source": [
    "# CIFAR- 10 데이터셋 로딩 및 전처리\n",
    "transforms = transforms.Compose([\n",
    "    transforms.Resize((224, 224)), #GoogLeNet 입력 크기에 맞춤\n",
    "    transforms.ToTensor(),\n",
    "    transforms.Normalize((0.5, 0.5, 0.5), (0.5,0.5,0.5))\n",
    "])\n",
    "\n",
    "train_datset = datasets.CIFAR10(root = './data', train=True, transform=transforms, download=True)\n",
    "train_loader = DataLoader(train_datset, batch_size=batch_size, shuffle=True)"
   ]
  },
  {
   "cell_type": "code",
   "execution_count": 17,
   "metadata": {},
   "outputs": [],
   "source": [
    "# 모델 및 손실함수, 옵티마이저 초기화\n",
    "model = GoogLeNet(num_classes=num_classes).to(device)\n",
    "criterion = nn.CrossEntropyLoss()\n",
    "optimizer = optim.Adam(model.parameters(), lr= learning_rate)"
   ]
  },
  {
   "cell_type": "code",
   "execution_count": 18,
   "metadata": {},
   "outputs": [],
   "source": [
    "def train(model, train_loader, criterion, optimizer, num_epochs):\n",
    "    model.train()  # 학습 모드 활성화\n",
    "\n",
    "    for epoch in range(num_epochs):\n",
    "        running_loss = 0.0\n",
    "        correct = 0\n",
    "        total = 0\n",
    "        \n",
    "        print(f\"Epoch [{epoch + 1}/{num_epochs}] 시작\")  # 에포크 시작 알림\n",
    "\n",
    "        for batch_idx, (inputs, labels) in enumerate(train_loader):\n",
    "            inputs, labels = inputs.to(device), labels.to(device)\n",
    "\n",
    "            # 옵티마이저 초기화\n",
    "            optimizer.zero_grad()\n",
    "\n",
    "            # 모델에 입력을 넣어 결과 얻기\n",
    "            outputs, aux1, aux2 = model(inputs)\n",
    "            \n",
    "            # 손실 계산 (메인 분류기와 두 개의 보조 분류기의 손실을 모두 사용)\n",
    "            loss1 = criterion(outputs, labels)\n",
    "            loss2 = criterion(aux1, labels)\n",
    "            loss3 = criterion(aux2, labels)\n",
    "            loss = loss1 + 0.3 * loss2 + 0.3 * loss3  # 메인과 보조 분류기 손실 가중치\n",
    "\n",
    "            # 역전파 및 옵티마이저 업데이트\n",
    "            loss.backward()\n",
    "            optimizer.step()\n",
    "\n",
    "            # 손실 및 정확도 기록\n",
    "            running_loss += loss.item()\n",
    "            _, predicted = outputs.max(1)\n",
    "            total += labels.size(0)\n",
    "            correct += predicted.eq(labels).sum().item()\n",
    "\n",
    "            # 배치 진행 상태 출력\n",
    "            print(f\"Batch [{batch_idx + 1}/{len(train_loader)}] - Loss: {loss.item():.4f}\")\n",
    "        \n",
    "        # 에포크당 평균 손실과 정확도 출력\n",
    "        print(f\"Epoch [{epoch+1}/{num_epochs}], Loss: {running_loss/len(train_loader):.4f}, Accuracy: {100 * correct / total:.2f}%\")\n",
    "        print(\"=\" * 50)  # 에포크 구분선\n",
    "\n",
    "    print(\"학습 완료\")\n"
   ]
  },
  {
   "cell_type": "code",
   "execution_count": null,
   "metadata": {},
   "outputs": [],
   "source": [
    "# 학습 실행\n",
    "train(model, train_loader, criterion, optimizer, num_epochs=10)\n"
   ]
  }
 ],
 "metadata": {
  "kernelspec": {
   "display_name": "namduhus_GPU",
   "language": "python",
   "name": "python3"
  },
  "language_info": {
   "codemirror_mode": {
    "name": "ipython",
    "version": 3
   },
   "file_extension": ".py",
   "mimetype": "text/x-python",
   "name": "python",
   "nbconvert_exporter": "python",
   "pygments_lexer": "ipython3",
   "version": "3.12.7"
  }
 },
 "nbformat": 4,
 "nbformat_minor": 2
}
