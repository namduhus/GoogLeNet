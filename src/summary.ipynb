{
 "cells": [
  {
   "cell_type": "code",
   "execution_count": null,
   "metadata": {},
   "outputs": [],
   "source": [
    "import os\n",
    "import sys\n",
    "sys.path.append(os.path.abspath(\"src\"))\n",
    "import torch\n",
    "import torch.nn as nn\n",
    "from models.module.Inception import Inception\n",
    "from models.GoogLeNet import GoogLeNet  # GoogLeNet 모델 불러오기\n",
    "from torchsummary import summary\n"
   ]
  },
  {
   "cell_type": "code",
   "execution_count": null,
   "metadata": {},
   "outputs": [],
   "source": [
    "print(torch.cuda.is_available())  # True이면 GPU 사용 가능\n",
    "print(torch.cuda.get_device_name(0))  # GPU 이름 확인\n"
   ]
  },
  {
   "cell_type": "code",
   "execution_count": null,
   "metadata": {},
   "outputs": [],
   "source": [
    "# 모델 정의\n",
    "model = GoogLeNet(num_classes=1000)\n",
    "\n",
    "# Summary 결과를 파일로 저장\n",
    "original_stdout = sys.stdout  # 현재 stdout 백업\n",
    "with open(\"googlenet_summary.txt\", \"w\") as f:\n",
    "    sys.stdout = f  # stdout을 파일로 설정\n",
    "    # 모델 요약 (CPU에서 실행)\n",
    "    summary(model, input_size=(3, 224, 224), device=\"cpu\")\n",
    "    sys.stdout = original_stdout  # stdout 복구\n",
    "\n",
    "print(\"GoogLeNet 모델 요약 결과가 'googlenet_summary.txt'에 저장되었습니다.\")\n"
   ]
  }
 ],
 "metadata": {
  "kernelspec": {
   "display_name": "namduhus_GPU",
   "language": "python",
   "name": "python3"
  },
  "language_info": {
   "codemirror_mode": {
    "name": "ipython",
    "version": 3
   },
   "file_extension": ".py",
   "mimetype": "text/x-python",
   "name": "python",
   "nbconvert_exporter": "python",
   "pygments_lexer": "ipython3",
   "version": "3.12.7"
  }
 },
 "nbformat": 4,
 "nbformat_minor": 2
}
