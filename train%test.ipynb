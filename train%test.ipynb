{
  "nbformat": 4,
  "nbformat_minor": 0,
  "metadata": {
    "colab": {
      "provenance": [],
      "gpuType": "T4",
      "mount_file_id": "18-swr-iBYi1LsD0RL6ChQT7alW8xUbHo",
      "authorship_tag": "ABX9TyPNOoDL1yqhbmcRtKMiENZo"
    },
    "kernelspec": {
      "name": "python3",
      "display_name": "Python 3"
    },
    "language_info": {
      "name": "python"
    },
    "accelerator": "GPU"
  },
  "cells": [
    {
      "cell_type": "markdown",
      "source": [
        "# Google Colab으로 진행했습니다~"
      ],
      "metadata": {
        "id": "tp_0zHtXbze0"
      }
    },
    {
      "cell_type": "code",
      "execution_count": 10,
      "metadata": {
        "id": "JvI3nNU9bo-j"
      },
      "outputs": [],
      "source": [
        "## import\n",
        "import os\n",
        "import sys\n",
        "sys.path.append(os.path.abspath(\"src\"))\n",
        "import torch\n",
        "import torch.nn as nn\n",
        "from Inception import Inception\n",
        "from GoogLeNet import GoogLeNet  # GoogLeNet 모델 불러오기\n",
        "from torchsummary import summary\n",
        "from torch.utils.data import DataLoader\n",
        "from torchvision import datasets, transforms\n",
        "import torch.optim as optim\n"
      ]
    },
    {
      "cell_type": "code",
      "source": [
        "# Google Colab 런타임 환경 확인\n",
        "device = torch.device(\"cuda\" if torch.cuda.is_available() else \"cpu\")\n",
        "print(\"사용 중인 디바이스:\", device)"
      ],
      "metadata": {
        "colab": {
          "base_uri": "https://localhost:8080/"
        },
        "id": "DhTIEgtJc2zL",
        "outputId": "95caef8b-a049-4f6a-f8ea-36d7faa62002"
      },
      "execution_count": 4,
      "outputs": [
        {
          "output_type": "stream",
          "name": "stdout",
          "text": [
            "사용 중인 디바이스: cuda\n"
          ]
        }
      ]
    },
    {
      "cell_type": "code",
      "source": [
        "# 데이터 전처리 및 로드\n",
        "transform = transforms.Compose([\n",
        "    transforms.Resize((224, 224)),  # GoogLeNet에 맞는 크기로 조정\n",
        "    transforms.ToTensor(),\n",
        "    transforms.Normalize(mean=[0.485, 0.456, 0.406], std=[0.229, 0.224, 0.225])\n",
        "])"
      ],
      "metadata": {
        "id": "F-fhWmHUcjSf"
      },
      "execution_count": 5,
      "outputs": []
    },
    {
      "cell_type": "code",
      "source": [
        "# CIFAR-10 데이터셋 다운로드 및 로드\n",
        "train_dataset = datasets.CIFAR10(root='./data', train=True, transform=transform, download=True)\n",
        "train_loader = DataLoader(train_dataset, batch_size=64, shuffle=True)\n"
      ],
      "metadata": {
        "colab": {
          "base_uri": "https://localhost:8080/"
        },
        "id": "CWvzjyBjdOnn",
        "outputId": "b6f5a48b-999f-4eff-8ce5-6d484835c44b"
      },
      "execution_count": 6,
      "outputs": [
        {
          "output_type": "stream",
          "name": "stdout",
          "text": [
            "Downloading https://www.cs.toronto.edu/~kriz/cifar-10-python.tar.gz to ./data/cifar-10-python.tar.gz\n"
          ]
        },
        {
          "output_type": "stream",
          "name": "stderr",
          "text": [
            "100%|██████████| 170M/170M [00:06<00:00, 28.3MB/s]\n"
          ]
        },
        {
          "output_type": "stream",
          "name": "stdout",
          "text": [
            "Extracting ./data/cifar-10-python.tar.gz to ./data\n"
          ]
        }
      ]
    },
    {
      "cell_type": "code",
      "source": [
        "test_dataset = datasets.CIFAR10(root='./data', train=False, transform=transform, download=True)\n",
        "test_loader = DataLoader(test_dataset, batch_size=64, shuffle=False)"
      ],
      "metadata": {
        "colab": {
          "base_uri": "https://localhost:8080/"
        },
        "id": "3KBftMmYdYkm",
        "outputId": "933fb5da-7bb0-4465-8351-3a31d4357fa8"
      },
      "execution_count": 7,
      "outputs": [
        {
          "output_type": "stream",
          "name": "stdout",
          "text": [
            "Files already downloaded and verified\n"
          ]
        }
      ]
    },
    {
      "cell_type": "code",
      "source": [
        "# GoogLeNet 모델 초기화\n",
        "model = GoogLeNet(num_classes=10).to(device)"
      ],
      "metadata": {
        "id": "tH0NuTKgdbk1"
      },
      "execution_count": 20,
      "outputs": []
    },
    {
      "cell_type": "code",
      "source": [
        "# 손실 함수 및 옵티마이저 설정\n",
        "criterion = nn.CrossEntropyLoss()\n",
        "optimizer = optim.Adam(model.parameters(), lr=0.00001)"
      ],
      "metadata": {
        "id": "EFV_ovscddJl"
      },
      "execution_count": 21,
      "outputs": []
    },
    {
      "cell_type": "markdown",
      "source": [
        "## train"
      ],
      "metadata": {
        "id": "xfxclDlm2Rem"
      }
    },
    {
      "cell_type": "code",
      "source": [
        "def train(model, train_loader, criterion, optimizer, num_epochs):\n",
        "    model.train()\n",
        "\n",
        "    # 손실과 정확도를 저장할 리스트\n",
        "    epoch_losses = []\n",
        "    epoch_accuracies = []\n",
        "\n",
        "    for epoch in range(num_epochs):\n",
        "        running_loss = 0.0\n",
        "        correct = 0\n",
        "        total = 0\n",
        "\n",
        "        print(f\"Epoch [{epoch + 1}/{num_epochs}] 시작\")\n",
        "\n",
        "        for batch_idx, (inputs, labels) in enumerate(train_loader):\n",
        "            inputs, labels = inputs.to(device), labels.to(device)\n",
        "\n",
        "            optimizer.zero_grad()\n",
        "            outputs, aux1, aux2 = model(inputs)\n",
        "\n",
        "            # 손실 계산\n",
        "            loss1 = criterion(outputs, labels)\n",
        "            loss2 = criterion(aux1, labels)\n",
        "            loss3 = criterion(aux2, labels)\n",
        "            loss = loss1 + 0.3 * loss2 + 0.3 * loss3\n",
        "\n",
        "            loss.backward()\n",
        "            optimizer.step()\n",
        "\n",
        "            running_loss += loss.item()\n",
        "            _, predicted = outputs.max(1)\n",
        "            total += labels.size(0)\n",
        "            correct += predicted.eq(labels).sum().item()\n",
        "\n",
        "            if batch_idx % 10 == 0:\n",
        "                print(f\"Batch [{batch_idx + 1}/{len(train_loader)}] - Loss: {loss.item():.4f}\")\n",
        "\n",
        "        # 에포크별 평균 손실과 정확도 계산\n",
        "        epoch_loss = running_loss / len(train_loader)\n",
        "        epoch_accuracy = 100 * correct / total\n",
        "\n",
        "        # 손실과 정확도 저장\n",
        "        epoch_losses.append(epoch_loss)\n",
        "        epoch_accuracies.append(epoch_accuracy)\n",
        "\n",
        "        print(f\"Epoch [{epoch+1}/{num_epochs}], Loss: {epoch_loss:.4f}, Accuracy: {epoch_accuracy:.2f}%\")\n",
        "        print(\"=\" * 50)\n",
        "\n",
        "    print(\"학습 완료\")\n",
        "\n",
        "    # 손실과 정확도 리스트 반환\n",
        "    return epoch_losses, epoch_accuracies\n"
      ],
      "metadata": {
        "id": "ytE4CG7idh1D"
      },
      "execution_count": 26,
      "outputs": []
    },
    {
      "cell_type": "code",
      "source": [
        "def plot_training(epoch_losses, epoch_accuracies):\n",
        "    import matplotlib.pyplot as plt\n",
        "    plt.figure(figsize=(12, 5))\n",
        "\n",
        "    # 손실 그래프\n",
        "    plt.subplot(1, 2, 1)\n",
        "    plt.plot(epoch_losses, marker='o', label='Loss')\n",
        "    plt.xlabel('Epoch')\n",
        "    plt.ylabel('Loss')\n",
        "    plt.title('Training Loss')\n",
        "    plt.legend()\n",
        "    plt.grid()\n",
        "\n",
        "    # 정확도 그래프\n",
        "    plt.subplot(1, 2, 2)\n",
        "    plt.plot(epoch_accuracies, marker='o', label='Accuracy', color='orange')\n",
        "    plt.xlabel('Epoch')\n",
        "    plt.ylabel('Accuracy (%)')\n",
        "    plt.title('Training Accuracy')\n",
        "    plt.legend()\n",
        "    plt.grid()\n",
        "\n",
        "    plt.show()\n"
      ],
      "metadata": {
        "id": "Q-xODYUpitx8"
      },
      "execution_count": 30,
      "outputs": []
    },
    {
      "cell_type": "code",
      "source": [
        "# 학습 실행\n",
        "num_epochs = 10\n",
        "epoch_losses, epoch_accuracies = train(model, train_loader, criterion, optimizer, num_epochs)\n",
        "\n",
        "# 그래프 출력\n",
        "plot_training(epoch_losses, epoch_accuracies)\n"
      ],
      "metadata": {
        "id": "zZRjtv43iwWi"
      },
      "execution_count": null,
      "outputs": []
    },
    {
      "cell_type": "code",
      "source": [
        "# train 검증\n",
        "epoch_losses, epoch_accuracies = train(model, train_loader, criterion, optimizer, num_epochs)\n",
        "print(\"손실 기록:\", epoch_losses)\n",
        "print(\"정확도 기록:\", epoch_accuracies)\n"
      ],
      "metadata": {
        "id": "N6RbDONnt5yg"
      },
      "execution_count": null,
      "outputs": []
    },
    {
      "cell_type": "markdown",
      "source": [
        "## test"
      ],
      "metadata": {
        "id": "s5aPdeMp2UHK"
      }
    },
    {
      "cell_type": "code",
      "source": [
        "print(f\"Test dataset size: {len(test_loader.dataset)}\")\n"
      ],
      "metadata": {
        "colab": {
          "base_uri": "https://localhost:8080/"
        },
        "id": "95v-C6ZD2Va1",
        "outputId": "22db2038-5993-42b5-c40a-79120b255dc6"
      },
      "execution_count": 32,
      "outputs": [
        {
          "output_type": "stream",
          "name": "stdout",
          "text": [
            "Test dataset size: 10000\n"
          ]
        }
      ]
    },
    {
      "cell_type": "code",
      "source": [
        "# 테스트\n",
        "import matplotlib.pyplot as plt\n",
        "\n",
        "def test(model, test_loader, criterion):\n",
        "    model.eval()  # 평가 모드\n",
        "    test_loss = 0.0\n",
        "    correct = 0\n",
        "    total = 0\n",
        "    batch_losses = []  # 배치별 손실 저장\n",
        "\n",
        "    with torch.no_grad():\n",
        "        for batch_idx, (inputs, labels) in enumerate(test_loader):\n",
        "            inputs, labels = inputs.to(device), labels.to(device)\n",
        "\n",
        "            # 모델 출력\n",
        "            outputs = model(inputs)\n",
        "\n",
        "            # 손실 계산\n",
        "            loss = criterion(outputs, labels)\n",
        "            test_loss += loss.item()\n",
        "            batch_losses.append(loss.item())  # 배치 손실 저장\n",
        "\n",
        "            # 정확도 계산\n",
        "            _, predicted = outputs.max(1)\n",
        "            total += labels.size(0)\n",
        "            correct += predicted.eq(labels).sum().item()\n",
        "\n",
        "    # 평균 손실 및 정확도 계산\n",
        "    avg_loss = test_loss / len(test_loader)\n",
        "    accuracy = 100 * correct / total\n",
        "\n",
        "    print(f\"Test Loss: {avg_loss:.4f}, Test Accuracy: {accuracy:.2f}%\")\n",
        "    return avg_loss, accuracy, batch_losses\n"
      ],
      "metadata": {
        "id": "G0Ht35w76uuR"
      },
      "execution_count": 33,
      "outputs": []
    },
    {
      "cell_type": "code",
      "source": [
        "def plot_test_results(batch_losses, test_accuracy):\n",
        "    plt.figure(figsize=(12, 6))\n",
        "\n",
        "    # 배치별 손실 그래프\n",
        "    plt.subplot(1, 2, 1)\n",
        "    plt.plot(batch_losses, marker='o', label='Batch Loss')\n",
        "    plt.title('Batch Loss During Testing')\n",
        "    plt.xlabel('Batch Index')\n",
        "    plt.ylabel('Loss')\n",
        "    plt.legend()\n",
        "    plt.grid()\n",
        "\n",
        "    # 테스트 정확도 표시\n",
        "    plt.subplot(1, 2, 2)\n",
        "    plt.bar(['Test Accuracy'], [test_accuracy], color='orange')\n",
        "    plt.title('Test Accuracy')\n",
        "    plt.ylim(0, 100)\n",
        "    plt.ylabel('Accuracy (%)')\n",
        "    plt.grid(axis='y')\n",
        "\n",
        "    plt.tight_layout()\n",
        "    plt.show()\n"
      ],
      "metadata": {
        "id": "BB9zbJDX69zQ"
      },
      "execution_count": 34,
      "outputs": []
    },
    {
      "cell_type": "code",
      "source": [
        "# 테스트 실행\n",
        "test_loss, test_accuracy, batch_losses = test(model, test_loader, criterion)\n",
        "\n",
        "# 테스트 그래프 출력\n",
        "plot_test_results(batch_losses, test_accuracy)\n"
      ],
      "metadata": {
        "id": "7n7dJnnk6_bB"
      },
      "execution_count": null,
      "outputs": []
    }
  ]
}
